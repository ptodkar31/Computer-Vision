{
 "cells": [
  {
   "cell_type": "markdown",
   "metadata": {},
   "source": [
    "### OpenCV Connecting to a USB Camera or a Laptop Camera\n",
    "\n",
    "OpenCV can automatically connect to your laptop's built in camera or your USB camera if you've installed that specific USB camera drivers. Please keep in mind, its almost impossible for us to help troubleshoot this sort of physical connection on our end, so if you are not able to connect, please check out the troubleshooting tips here:\n",
    "\n",
    "https://github.com/opencv/opencv/issues/8471"
   ]
  },
  {
   "cell_type": "code",
   "execution_count": 2,
   "metadata": {},
   "outputs": [],
   "source": [
    "import cv2\n",
    "\n",
    "#connect to your computers default cammera\n",
    "cap = cv2.VideoCapture(0)\n",
    "\n",
    "#Automatically grab width and height from video feed\n",
    "#(returns float which we need to convert to integer for later on!)\n",
    "\n",
    "width=int(cap.get(cv2.CAP_PROP_FRAME_WIDTH))\n",
    "height = int(cap.get(cv2.CAP_PROP_FRAME_HEIGHT))\n",
    "\n",
    "while True:\n",
    "    \n",
    "    #capture frame_by_frame\n",
    "    ret,frame= cap.read()\n",
    "    \n",
    "    #our operations on the frame come here\n",
    "    gray=cv2.cvtColor(frame, cv2.COLOR_BGR2GRAY)\n",
    "    \n",
    "    #display the resulting frame\n",
    "    cv2.imshow('frame',gray)\n",
    "    \n",
    "    #This command let's us quit with the 'q' button on a keyboard.\n",
    "    #simply pressing X on the website wont't work!\n",
    "    \n",
    "    if cv2.waitKey(1) & 0xFF == ord('q'):\n",
    "        break\n",
    "        \n",
    "#when everything done, release the capture  and distory the windows\n",
    "cap.release()\n",
    "cv2.destroyAllWindows()"
   ]
  },
  {
   "cell_type": "markdown",
   "metadata": {},
   "source": [
    "### Color Frame"
   ]
  },
  {
   "cell_type": "code",
   "execution_count": 3,
   "metadata": {},
   "outputs": [],
   "source": [
    "import cv2\n",
    "\n",
    "#connect to your computers default cammera\n",
    "cap = cv2.VideoCapture(0)\n",
    "\n",
    "#Automatically grab width and height from video feed\n",
    "#(returns float which we need to convert to integer for later on!)\n",
    "\n",
    "width=int(cap.get(cv2.CAP_PROP_FRAME_WIDTH))\n",
    "height = int(cap.get(cv2.CAP_PROP_FRAME_HEIGHT))\n",
    "\n",
    "while True:\n",
    "    \n",
    "    #capture frame_by_frame\n",
    "    ret,frame= cap.read()\n",
    "    \n",
    "    #our operations on the frame come here\n",
    "    #gray=cv2.cvtColor(frame, cv2.COLOR_BGR2GRAY)\n",
    "    \n",
    "    #display the resulting frame\n",
    "    cv2.imshow('frame',frame)\n",
    "    \n",
    "    #This command let's us quit with the 'q' button on a keyboard.\n",
    "    #simply pressing X on the website wont't work!\n",
    "    \n",
    "    if cv2.waitKey(1) & 0xFF == ord('q'):\n",
    "        break\n",
    "        \n",
    "#when everything done, release the capture  and distory the windows\n",
    "cap.release()\n",
    "cv2.destroyAllWindows()"
   ]
  },
  {
   "cell_type": "code",
   "execution_count": null,
   "metadata": {},
   "outputs": [],
   "source": [
    "Writting video to storage"
   ]
  },
  {
   "cell_type": "code",
   "execution_count": 6,
   "metadata": {},
   "outputs": [],
   "source": [
    "import cv2\n",
    "\n",
    "#connect to your computers default cammera\n",
    "cap = cv2.VideoCapture(0)\n",
    "\n",
    "#Automatically grab width and height from video feed\n",
    "#(returns float which we need to convert to integer for later on!)\n",
    "\n",
    "width=int(cap.get(cv2.CAP_PROP_FRAME_WIDTH))\n",
    "height = int(cap.get(cv2.CAP_PROP_FRAME_HEIGHT))\n",
    "\n",
    "#MAC AND lINUX : *'XVID'( Macos users may want to try VIDX as well just in \n",
    "#Windows : *'VIDX'\n",
    "writer = cv2.VideoWriter(\"C:/Computer Graphics/student_capture.mp4\",cv2.VideoWriter_fourcc(*'XVID'),25,(width, height))\n",
    "\n",
    "\n",
    "#This loop keens recorcording\n",
    "while True:\n",
    "    \n",
    "    #capture frame_by_frame\n",
    "    ret,frame= cap.read()\n",
    "    \n",
    "    #our operations on the frame come here\n",
    "    #gray=cv2.cvtColor(frame, cv2.COLOR_BGR2GRAY)\n",
    "    \n",
    "    #write the video\n",
    "    writer.write(frame)\n",
    "    \n",
    "    #display the resulting frame\n",
    "    cv2.imshow('frame',frame)\n",
    "    \n",
    "    #This command let's us quit with the 'q' button on a keyboard.\n",
    "    #simply pressing X on the website wont't work!\n",
    "    \n",
    "    if cv2.waitKey(1) & 0xFF == ord('q'):\n",
    "        break\n",
    "        \n",
    "#when everything done, release the capture  and distory the windows\n",
    "cap.release()\n",
    "writer.release()\n",
    "cv2.destroyAllWindows()"
   ]
  },
  {
   "cell_type": "code",
   "execution_count": null,
   "metadata": {},
   "outputs": [],
   "source": []
  }
 ],
 "metadata": {
  "kernelspec": {
   "display_name": "Python 3",
   "language": "python",
   "name": "python3"
  },
  "language_info": {
   "codemirror_mode": {
    "name": "ipython",
    "version": 3
   },
   "file_extension": ".py",
   "mimetype": "text/x-python",
   "name": "python",
   "nbconvert_exporter": "python",
   "pygments_lexer": "ipython3",
   "version": "3.6.6"
  }
 },
 "nbformat": 4,
 "nbformat_minor": 2
}
