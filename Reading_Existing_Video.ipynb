{
 "cells": [
  {
   "cell_type": "code",
   "execution_count": 3,
   "metadata": {},
   "outputs": [],
   "source": [
    "import cv2\n",
    "import time\n",
    "#Some cpmmand function as straming , its just now we pass in the file path\n",
    "cap = cv2.VideoCapture(\"C:/Computer Graphics/student_capture.mp4\")\n",
    "\n",
    "\n",
    "#Freame Per second for video\n",
    "fps = 25\n",
    "\n",
    "#Always a good to check if the video was actually there\n",
    "#If you get an error as this step , triple check your file path !!\n",
    "\n",
    "if cap.isOpened() ==False:\n",
    "    print(\"Error Opening the video file. Please Double Check your file path\")\n",
    "\n",
    "#while the video is oppend\n",
    "while cap.isOpened():\n",
    "    \n",
    "    #read the video file\n",
    "    ret,frame= cap.read()\n",
    "    \n",
    "    if ret == True:\n",
    "        time.sleep(1/fps)\n",
    "        cv2.imshow('frame',frame)\n",
    "        \n",
    "        if cv2.waitKey(1) & 0xFF == ord('q'):\n",
    "            break\n",
    "        \n",
    "    # or automatically break this whole loop if the video is over\n",
    "    else:\n",
    "        break\n",
    "cap.release()\n",
    "cv2.destroyAllWindows()    "
   ]
  },
  {
   "cell_type": "code",
   "execution_count": null,
   "metadata": {},
   "outputs": [],
   "source": []
  },
  {
   "cell_type": "code",
   "execution_count": null,
   "metadata": {},
   "outputs": [],
   "source": []
  }
 ],
 "metadata": {
  "kernelspec": {
   "display_name": "Python 3",
   "language": "python",
   "name": "python3"
  },
  "language_info": {
   "codemirror_mode": {
    "name": "ipython",
    "version": 3
   },
   "file_extension": ".py",
   "mimetype": "text/x-python",
   "name": "python",
   "nbconvert_exporter": "python",
   "pygments_lexer": "ipython3",
   "version": "3.6.6"
  }
 },
 "nbformat": 4,
 "nbformat_minor": 2
}
